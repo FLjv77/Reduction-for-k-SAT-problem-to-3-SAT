{
 "cells": [
  {
   "cell_type": "code",
   "execution_count": 32,
   "metadata": {},
   "outputs": [],
   "source": [
    "def DominatingSetOracle(adjacencyRow):\n",
    "    i=0;\n",
    "    primarySat = [];\n",
    "    newReducedSat = [];\n",
    "    for item in adjacencyRow:\n",
    "        if item == 1:\n",
    "            primarySat.append(i);\n",
    "        i = i+1;        \n",
    "    if len(primarySat) == 3:\n",
    "        return primarySat;\n",
    "    if len(primarySat) == 1:\n",
    "        clause = [primarySat[0], -1*(i+1), -1*(i+2)];\n",
    "        newReducedSat.append(clause);\n",
    "        return newReducedSat;\n",
    "    if len(primarySat) == 2: \n",
    "        clause = [primarySat[0], primarySat[1], -1*(i+1)];\n",
    "        newReducedSat.append(clause);\n",
    "        return newReducedSat;\n",
    "    if len(primarySat) > 3:\n",
    "        primarySatLenght = len(primarySat);\n",
    "        clause = [primarySat[0], primarySat[1], (i + 1)];\n",
    "        newReducedSat.append(clause);\n",
    "        clause = [primarySat[primarySatLenght-1], primarySat[primarySatLenght - 2], -1*(2*i-3)];\n",
    "        newReducedSat.append(clause);\n",
    "\n",
    "        for t in range(primarySatLenght-3):\n",
    "            clause = [primarySat[t+2], i+2+t, -1*(i+1+t)];\n",
    "            newReducedSat.append(clause);\n",
    "        return newReducedSat"
   ]
  },
  {
   "cell_type": "code",
   "execution_count": 33,
   "metadata": {},
   "outputs": [
    {
     "data": {
      "text/plain": [
       "[[1, 2, 8], [5, 3, -11], [3, 9, -8]]"
      ]
     },
     "execution_count": 33,
     "metadata": {},
     "output_type": "execute_result"
    }
   ],
   "source": [
    "DominatingSetOracle([0,1,1,1,0,1,0])"
   ]
  },
  {
   "cell_type": "code",
   "execution_count": null,
   "metadata": {},
   "outputs": [],
   "source": []
  }
 ],
 "metadata": {
  "kernelspec": {
   "display_name": "Python 3",
   "language": "python",
   "name": "python3"
  },
  "language_info": {
   "codemirror_mode": {
    "name": "ipython",
    "version": 3
   },
   "file_extension": ".py",
   "mimetype": "text/x-python",
   "name": "python",
   "nbconvert_exporter": "python",
   "pygments_lexer": "ipython3",
   "version": "3.8.5"
  }
 },
 "nbformat": 4,
 "nbformat_minor": 4
}
